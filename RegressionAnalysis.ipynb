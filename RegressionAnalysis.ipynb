{
 "cells": [
  {
   "cell_type": "code",
   "execution_count": 63,
   "metadata": {},
   "outputs": [],
   "source": [
    "import pandas as pd\n",
    "import numpy as np\n",
    "import datetime as dt\n",
    "\n",
    "import matplotlib.pyplot as plt\n",
    "import matplotlib.dates as pltdt\n",
    "%matplotlib inline\n",
    "\n",
    "import seaborn as sns\n",
    "sns.set_style(\"darkgrid\")"
   ]
  },
  {
   "cell_type": "code",
   "execution_count": 64,
   "metadata": {},
   "outputs": [],
   "source": [
    "power_countries_1986_2015 = pd.read_csv(\"EMHIRESPV_TSh_CF_Country_19862015.csv\")\n",
    "meteorological_france_2006_2015 = pd.read_csv(\"france_2006_2015_ver2_0_9258_487749847.csv\", sep=\";\")\n"
   ]
  },
  {
   "cell_type": "code",
   "execution_count": 65,
   "metadata": {},
   "outputs": [],
   "source": [
    "#print(power_countries_1986_2015.head())"
   ]
  },
  {
   "cell_type": "code",
   "execution_count": 66,
   "metadata": {},
   "outputs": [],
   "source": [
    "#print(meteorological_france_2006_2015.head())"
   ]
  },
  {
   "cell_type": "code",
   "execution_count": 67,
   "metadata": {},
   "outputs": [],
   "source": [
    "#power_countries_1986_2015.shape"
   ]
  },
  {
   "cell_type": "code",
   "execution_count": 68,
   "metadata": {},
   "outputs": [],
   "source": [
    "#meteorological_france_2006_2015.shape"
   ]
  },
  {
   "cell_type": "code",
   "execution_count": 69,
   "metadata": {},
   "outputs": [],
   "source": [
    "t_h = pd.date_range('1/1/1986', periods=262968, freq='H')"
   ]
  },
  {
   "cell_type": "code",
   "execution_count": 70,
   "metadata": {},
   "outputs": [],
   "source": [
    "power_countries_1986_2015[\"HOUR\"] = t_h\n",
    "power_countries_1986_2015.set_index(\"HOUR\", inplace = True)"
   ]
  },
  {
   "cell_type": "code",
   "execution_count": 71,
   "metadata": {},
   "outputs": [],
   "source": [
    "#print(power_countries_1986_2015.head())"
   ]
  },
  {
   "cell_type": "code",
   "execution_count": 72,
   "metadata": {},
   "outputs": [],
   "source": [
    "power_countries_1986_2015['DAY']=power_countries_1986_2015.index.map(lambda x: x.strftime('%Y-%m-%d'))\n",
    "power_countries_1986_2015_day = power_countries_1986_2015.groupby('DAY').sum()"
   ]
  },
  {
   "cell_type": "code",
   "execution_count": 73,
   "metadata": {},
   "outputs": [
    {
     "data": {
      "text/plain": [
       "(10957, 29)"
      ]
     },
     "execution_count": 73,
     "metadata": {},
     "output_type": "execute_result"
    }
   ],
   "source": [
    "power_countries_1986_2015_day.shape"
   ]
  },
  {
   "cell_type": "code",
   "execution_count": 74,
   "metadata": {},
   "outputs": [],
   "source": [
    "#print(power_countries_1986_2015_day.head())"
   ]
  },
  {
   "cell_type": "code",
   "execution_count": 75,
   "metadata": {},
   "outputs": [],
   "source": [
    "power_countries_2006_2015_day = power_countries_1986_2015_day.loc[\"2006-01-01\":\"2015-12-31\"]"
   ]
  },
  {
   "cell_type": "code",
   "execution_count": 76,
   "metadata": {},
   "outputs": [
    {
     "data": {
      "text/plain": [
       "(3652, 29)"
      ]
     },
     "execution_count": 76,
     "metadata": {},
     "output_type": "execute_result"
    }
   ],
   "source": [
    "power_countries_2006_2015_day.shape"
   ]
  },
  {
   "cell_type": "code",
   "execution_count": 77,
   "metadata": {},
   "outputs": [
    {
     "data": {
      "text/plain": [
       "(3652,)"
      ]
     },
     "execution_count": 77,
     "metadata": {},
     "output_type": "execute_result"
    }
   ],
   "source": [
    "t_d = pd.date_range('1/1/2006', periods=3652, freq='D')\n",
    "t_d.shape"
   ]
  },
  {
   "cell_type": "code",
   "execution_count": 78,
   "metadata": {},
   "outputs": [],
   "source": [
    "power_france_2006_2015_day = power_countries_2006_2015_day[\"FR\"]"
   ]
  },
  {
   "cell_type": "code",
   "execution_count": 79,
   "metadata": {},
   "outputs": [
    {
     "data": {
      "text/plain": [
       "(3652,)"
      ]
     },
     "execution_count": 79,
     "metadata": {},
     "output_type": "execute_result"
    }
   ],
   "source": [
    "power_france_2006_2015_day.shape"
   ]
  },
  {
   "cell_type": "code",
   "execution_count": 80,
   "metadata": {},
   "outputs": [
    {
     "data": {
      "text/plain": [
       "DAY\n",
       "2006-01-01    0.981080\n",
       "2006-01-02    1.201579\n",
       "2006-01-03    1.113526\n",
       "2006-01-04    1.471551\n",
       "2006-01-05    1.014190\n",
       "Name: FR, dtype: float64"
      ]
     },
     "execution_count": 80,
     "metadata": {},
     "output_type": "execute_result"
    }
   ],
   "source": [
    "power_france_2006_2015_day.head()"
   ]
  },
  {
   "cell_type": "code",
   "execution_count": 81,
   "metadata": {},
   "outputs": [],
   "source": [
    "meteorological_france_2006_2015_day = meteorological_france_2006_2015.groupby('DAY').mean()"
   ]
  },
  {
   "cell_type": "code",
   "execution_count": 82,
   "metadata": {},
   "outputs": [
    {
     "data": {
      "text/plain": [
       "(3652, 15)"
      ]
     },
     "execution_count": 82,
     "metadata": {},
     "output_type": "execute_result"
    }
   ],
   "source": [
    "meteorological_france_2006_2015_day.shape"
   ]
  },
  {
   "cell_type": "code",
   "execution_count": 83,
   "metadata": {},
   "outputs": [],
   "source": [
    "#meteorological_france_2006_2015_day.head"
   ]
  },
  {
   "cell_type": "code",
   "execution_count": 84,
   "metadata": {},
   "outputs": [],
   "source": [
    "meteorological_france_2006_2015_day[\"DAY\"] = t_d\n",
    "meteorological_france_2006_2015_day.set_index(\"DAY\", inplace=True)"
   ]
  },
  {
   "cell_type": "code",
   "execution_count": 85,
   "metadata": {},
   "outputs": [],
   "source": [
    "#meteorological_france_2006_2015_day.head"
   ]
  },
  {
   "cell_type": "code",
   "execution_count": 86,
   "metadata": {},
   "outputs": [
    {
     "data": {
      "text/plain": [
       "(3652, 15)"
      ]
     },
     "execution_count": 86,
     "metadata": {},
     "output_type": "execute_result"
    }
   ],
   "source": [
    "meteorological_france_2006_2015_day.shape"
   ]
  },
  {
   "cell_type": "code",
   "execution_count": 87,
   "metadata": {},
   "outputs": [],
   "source": [
    "#print(meteorological_france_2006_2015_day.head())"
   ]
  },
  {
   "cell_type": "code",
   "execution_count": 88,
   "metadata": {},
   "outputs": [],
   "source": [
    "france_2006_2015_day = pd.concat([power_france_2006_2015_day, meteorological_france_2006_2015_day], axis=1)"
   ]
  },
  {
   "cell_type": "code",
   "execution_count": 89,
   "metadata": {},
   "outputs": [
    {
     "data": {
      "text/plain": [
       "(3652, 16)"
      ]
     },
     "execution_count": 89,
     "metadata": {},
     "output_type": "execute_result"
    }
   ],
   "source": [
    "france_2006_2015_day.shape"
   ]
  },
  {
   "cell_type": "code",
   "execution_count": 90,
   "metadata": {},
   "outputs": [],
   "source": [
    "#print(france_2006_2015_day.head())"
   ]
  },
  {
   "cell_type": "code",
   "execution_count": 91,
   "metadata": {},
   "outputs": [
    {
     "data": {
      "text/plain": [
       "DatetimeIndex(['2006-01-01', '2006-01-02', '2006-01-03', '2006-01-04',\n",
       "               '2006-01-05', '2006-01-06', '2006-01-07', '2006-01-08',\n",
       "               '2006-01-09', '2006-01-10',\n",
       "               ...\n",
       "               '2015-12-22', '2015-12-23', '2015-12-24', '2015-12-25',\n",
       "               '2015-12-26', '2015-12-27', '2015-12-28', '2015-12-29',\n",
       "               '2015-12-30', '2015-12-31'],\n",
       "              dtype='datetime64[ns]', name=u'DAY', length=3652, freq=None)"
      ]
     },
     "execution_count": 91,
     "metadata": {},
     "output_type": "execute_result"
    }
   ],
   "source": [
    "france_2006_2015_day.index = pd.to_datetime(france_2006_2015_day.index)\n",
    "france_2006_2015_day.index"
   ]
  },
  {
   "cell_type": "code",
   "execution_count": 92,
   "metadata": {},
   "outputs": [
    {
     "data": {
      "text/plain": [
       "DatetimeIndex(['2006-01-01', '2006-02-01', '2006-03-01', '2006-04-01',\n",
       "               '2006-05-01', '2006-06-01', '2006-07-01', '2006-08-01',\n",
       "               '2006-09-01', '2006-10-01',\n",
       "               ...\n",
       "               '2015-03-01', '2015-04-01', '2015-05-01', '2015-06-01',\n",
       "               '2015-07-01', '2015-08-01', '2015-09-01', '2015-10-01',\n",
       "               '2015-11-01', '2015-12-01'],\n",
       "              dtype='datetime64[ns]', name=u'MONTH', length=120, freq=None)"
      ]
     },
     "execution_count": 92,
     "metadata": {},
     "output_type": "execute_result"
    }
   ],
   "source": [
    "france_2006_2015_day[\"MONTH\"] = france_2006_2015_day.index.map(lambda x: x.strftime(\"%Y-%m\"))\n",
    "france_2006_2015_day[\"MONTH_ONLY\"] = france_2006_2015_day.index.map(lambda x: x.strftime(\"%m\"))\n",
    "france_2006_2015_month = france_2006_2015_day.groupby(\"MONTH\").mean()\n",
    "france_2006_2015_month.index = pd.to_datetime(france_2006_2015_month.index)\n",
    "france_2006_2015_month.index"
   ]
  },
  {
   "cell_type": "code",
   "execution_count": 93,
   "metadata": {},
   "outputs": [],
   "source": [
    "#print(france_2006_2015_month.head())"
   ]
  },
  {
   "cell_type": "code",
   "execution_count": 94,
   "metadata": {},
   "outputs": [],
   "source": [
    "france_2006_2015_day[\"YEAR\"] = france_2006_2015_day.index.map(lambda x: x.strftime(\"%Y\"))\n",
    "france_2006_2015_day[\"DAY_ONLY\"] = france_2006_2015_day.index.map(lambda x: x.strftime(\"%d\"))"
   ]
  },
  {
   "cell_type": "markdown",
   "metadata": {},
   "source": [
    "# My code starts here."
   ]
  },
  {
   "cell_type": "code",
   "execution_count": 95,
   "metadata": {},
   "outputs": [
    {
     "data": {
      "text/plain": [
       "<matplotlib.axes._subplots.AxesSubplot at 0x7efd1b953f90>"
      ]
     },
     "execution_count": 95,
     "metadata": {},
     "output_type": "execute_result"
    },
    {
     "data": {
      "image/png": "[encoded data removed]",
      "text/plain": [
       "<matplotlib.figure.Figure at 0x7efd1b9436d0>"
      ]
     },
     "metadata": {},
     "output_type": "display_data"
    }
   ],
   "source": [
    "#Getting correlation matrix of the full dataset\n",
    "corr = france_2006_2015_day.corr()\n",
    "sns.heatmap(corr, \n",
    "        xticklabels=corr.columns,\n",
    "        yticklabels=corr.columns)"
   ]
  },
  {
   "cell_type": "code",
   "execution_count": 96,
   "metadata": {
    "scrolled": true
   },
   "outputs": [
    {
     "data": {
      "text/html": [
       "<div>\n",
       "<style>\n",
       "    .dataframe thead tr:only-child th {\n",
       "        text-align: right;\n",
       "    }\n",
       "\n",
       "    .dataframe thead th {\n",
       "        text-align: left;\n",
       "    }\n",
       "\n",
       "    .dataframe tbody tr th {\n",
       "        vertical-align: top;\n",
       "    }\n",
       "</style>\n",
       "<table border=\"1\" class=\"dataframe\">\n",
       "  <thead>\n",
       "    <tr style=\"text-align: right;\">\n",
       "      <th></th>\n",
       "      <th>FR</th>\n",
       "      <th>GRID_NO</th>\n",
       "      <th>LATITUDE</th>\n",
       "      <th>LONGITUDE</th>\n",
       "      <th>ALTITUDE</th>\n",
       "      <th>TEMPERATURE_MAX</th>\n",
       "      <th>TEMPERATURE_MIN</th>\n",
       "      <th>TEMPERATURE_AVG</th>\n",
       "      <th>WINDSPEED</th>\n",
       "      <th>VAPOURPRESSURE</th>\n",
       "      <th>PRECIPITATION</th>\n",
       "      <th>E0</th>\n",
       "      <th>ES0</th>\n",
       "      <th>ET0</th>\n",
       "      <th>RADIATION</th>\n",
       "      <th>SNOWDEPTH</th>\n",
       "      <th>MONTH</th>\n",
       "      <th>MONTH_ONLY</th>\n",
       "      <th>YEAR</th>\n",
       "      <th>DAY_ONLY</th>\n",
       "    </tr>\n",
       "    <tr>\n",
       "      <th>ALTITUDE</th>\n",
       "      <th></th>\n",
       "      <th></th>\n",
       "      <th></th>\n",
       "      <th></th>\n",
       "      <th></th>\n",
       "      <th></th>\n",
       "      <th></th>\n",
       "      <th></th>\n",
       "      <th></th>\n",
       "      <th></th>\n",
       "      <th></th>\n",
       "      <th></th>\n",
       "      <th></th>\n",
       "      <th></th>\n",
       "      <th></th>\n",
       "      <th></th>\n",
       "      <th></th>\n",
       "      <th></th>\n",
       "      <th></th>\n",
       "      <th></th>\n",
       "    </tr>\n",
       "  </thead>\n",
       "  <tbody>\n",
       "    <tr>\n",
       "      <th>290.929212</th>\n",
       "      <td>3652</td>\n",
       "      <td>1</td>\n",
       "      <td>1</td>\n",
       "      <td>1</td>\n",
       "      <td>1</td>\n",
       "      <td>3650</td>\n",
       "      <td>3648</td>\n",
       "      <td>3650</td>\n",
       "      <td>3646</td>\n",
       "      <td>3651</td>\n",
       "      <td>3635</td>\n",
       "      <td>3650</td>\n",
       "      <td>3651</td>\n",
       "      <td>3652</td>\n",
       "      <td>3651</td>\n",
       "      <td>2086</td>\n",
       "      <td>120</td>\n",
       "      <td>12</td>\n",
       "      <td>10</td>\n",
       "      <td>31</td>\n",
       "    </tr>\n",
       "  </tbody>\n",
       "</table>\n",
       "</div>"
      ],
      "text/plain": [
       "              FR  GRID_NO  LATITUDE  LONGITUDE  ALTITUDE  TEMPERATURE_MAX  \\\n",
       "ALTITUDE                                                                    \n",
       "290.929212  3652        1         1          1         1             3650   \n",
       "\n",
       "            TEMPERATURE_MIN  TEMPERATURE_AVG  WINDSPEED  VAPOURPRESSURE  \\\n",
       "ALTITUDE                                                                  \n",
       "290.929212             3648             3650       3646            3651   \n",
       "\n",
       "            PRECIPITATION    E0   ES0   ET0  RADIATION  SNOWDEPTH  MONTH  \\\n",
       "ALTITUDE                                                                   \n",
       "290.929212           3635  3650  3651  3652       3651       2086    120   \n",
       "\n",
       "            MONTH_ONLY  YEAR  DAY_ONLY  \n",
       "ALTITUDE                                \n",
       "290.929212          12    10        31  "
      ]
     },
     "execution_count": 96,
     "metadata": {},
     "output_type": "execute_result"
    }
   ],
   "source": [
    "france_2006_2015_day.groupby('ALTITUDE').nunique()"
   ]
  },
  {
   "cell_type": "code",
   "execution_count": 97,
   "metadata": {},
   "outputs": [
    {
     "data": {
      "text/plain": [
       "FR               float64\n",
       "WINDSPEED        float64\n",
       "PRECIPITATION    float64\n",
       "RADIATION        float64\n",
       "SNOWDEPTH        float64\n",
       "dtype: object"
      ]
     },
     "execution_count": 97,
     "metadata": {},
     "output_type": "execute_result"
    }
   ],
   "source": [
    "#Selecting datasets that have maximum correlation with the output and minimum internal correlation.\n",
    "france_2006_2015 = france_2006_2015_day[['FR','WINDSPEED','PRECIPITATION','RADIATION','SNOWDEPTH']] \n",
    "#Ignored the following columns'TEMPERATURE_AVG',,'MONTH_ONLY','MONTH','DAY_ONLY','YEAR','VAPOURPRESSURE',\n",
    "france_2006_2015.dtypes\n"
   ]
  },
  {
   "cell_type": "code",
   "execution_count": 98,
   "metadata": {},
   "outputs": [
    {
     "data": {
      "text/plain": [
       "FR               float64\n",
       "WINDSPEED        float64\n",
       "PRECIPITATION    float64\n",
       "RADIATION        float64\n",
       "SNOWDEPTH        float64\n",
       "dtype: object"
      ]
     },
     "execution_count": 98,
     "metadata": {},
     "output_type": "execute_result"
    }
   ],
   "source": [
    "franceDF = france_2006_2015.apply(pd.to_numeric, errors='ignore')\n",
    "franceDF.dtypes"
   ]
  },
  {
   "cell_type": "code",
   "execution_count": 99,
   "metadata": {},
   "outputs": [
    {
     "name": "stdout",
     "output_type": "stream",
     "text": [
      "                     FR  WINDSPEED  PRECIPITATION  RADIATION  SNOWDEPTH\n",
      "FR             1.000000  -0.356829      -0.398472   0.937411   0.116095\n",
      "WINDSPEED     -0.356829   1.000000       0.405299  -0.301005   0.022862\n",
      "PRECIPITATION -0.398472   0.405299       1.000000  -0.256067  -0.017226\n",
      "RADIATION      0.937411  -0.301005      -0.256067   1.000000   0.085557\n",
      "SNOWDEPTH      0.116095   0.022862      -0.017226   0.085557   1.000000\n"
     ]
    },
    {
     "data": {
      "image/png": "[encoded data removed]",
      "text/plain": [
       "<matplotlib.figure.Figure at 0x7efd1b93b650>"
      ]
     },
     "metadata": {},
     "output_type": "display_data"
    }
   ],
   "source": [
    "#Generating new correlation matrix\n",
    "corr1 = franceDF.corr()\n",
    "sns.heatmap(corr1, \n",
    "        xticklabels=corr1.columns,\n",
    "        yticklabels=corr1.columns)\n",
    "print franceDF.corr()"
   ]
  },
  {
   "cell_type": "code",
   "execution_count": 100,
   "metadata": {},
   "outputs": [
    {
     "name": "stdout",
     "output_type": "stream",
     "text": [
      "                FR    WINDSPEED  PRECIPITATION     RADIATION    SNOWDEPTH\n",
      "count  2857.000000  2857.000000    2857.000000   2857.000000  2857.000000\n",
      "mean      2.864947     3.346436       2.190706  11123.464838    12.709500\n",
      "std       1.348017     1.030206       2.612020   6795.822768    24.169718\n",
      "min       0.394060     1.326620       0.000997   2094.080758     0.000000\n",
      "25%       1.709574     2.585942       0.228814   4879.883350     0.100000\n",
      "50%       2.695554     3.142173       1.153340   9590.744766     3.446481\n",
      "75%       3.985883     3.961715       3.292024  16374.682951    12.837963\n",
      "max       5.786712     8.331705      19.295214  29273.305085   250.000000\n"
     ]
    }
   ],
   "source": [
    "#Clean data over here - removing NaN, Inf and Null values\n",
    "def clean_dataset(df):\n",
    "    assert isinstance(df, pd.DataFrame), \"df needs to be a pd.DataFrame\"\n",
    "    df.dropna(inplace=True)\n",
    "    indices_to_keep = ~df.isin([np.nan, np.inf, -np.inf]).any(1)\n",
    "    return df[indices_to_keep].astype(np.float64)\n",
    "\n",
    "franceDF = clean_dataset(franceDF[['FR','WINDSPEED','PRECIPITATION','RADIATION','SNOWDEPTH']]) \n",
    "\n",
    "print franceDF.describe()"
   ]
  },
  {
   "cell_type": "code",
   "execution_count": 101,
   "metadata": {},
   "outputs": [],
   "source": [
    "#Splitting dataset to train and test sets\n",
    "from sklearn.model_selection import train_test_split\n",
    "X_train, X_test, y_train, y_test = train_test_split(franceDF[['WINDSPEED','PRECIPITATION','RADIATION','SNOWDEPTH']], \\\n",
    "        franceDF['FR'], test_size=0.2, random_state=123456)"
   ]
  },
  {
   "cell_type": "code",
   "execution_count": 102,
   "metadata": {},
   "outputs": [],
   "source": [
    "#X_test.shape"
   ]
  },
  {
   "cell_type": "code",
   "execution_count": 103,
   "metadata": {},
   "outputs": [
    {
     "data": {
      "text/plain": [
       "RandomForestRegressor(bootstrap=True, criterion='mse', max_depth=None,\n",
       "           max_features='auto', max_leaf_nodes=None,\n",
       "           min_impurity_decrease=0.0, min_impurity_split=None,\n",
       "           min_samples_leaf=1, min_samples_split=2,\n",
       "           min_weight_fraction_leaf=0.0, n_estimators=100, n_jobs=1,\n",
       "           oob_score=True, random_state=123456, verbose=0,\n",
       "           warm_start=False)"
      ]
     },
     "execution_count": 103,
     "metadata": {},
     "output_type": "execute_result"
    }
   ],
   "source": [
    "from sklearn.ensemble import RandomForestRegressor\n",
    "rf = RandomForestRegressor(n_estimators=100, oob_score=True, random_state=123456)\n",
    "rf.fit(X_train, y_train)"
   ]
  },
  {
   "cell_type": "code",
   "execution_count": 104,
   "metadata": {
    "scrolled": true
   },
   "outputs": [],
   "source": [
    "from sklearn.metrics import accuracy_score\n",
    "predicted = rf.predict(X_test)\n"
   ]
  },
  {
   "cell_type": "code",
   "execution_count": 105,
   "metadata": {
    "scrolled": true
   },
   "outputs": [
    {
     "name": "stdout",
     "output_type": "stream",
     "text": [
      "count    572.000000\n",
      "mean       2.942833\n",
      "std        1.377625\n",
      "min        0.555884\n",
      "25%        1.693637\n",
      "50%        2.822078\n",
      "75%        4.098717\n",
      "max        5.708205\n",
      "Name: FR, dtype: float64\n",
      "(572,)\n"
     ]
    }
   ],
   "source": [
    "print y_test.describe()\n",
    "print predicted.shape"
   ]
  },
  {
   "cell_type": "code",
   "execution_count": 106,
   "metadata": {},
   "outputs": [
    {
     "name": "stdout",
     "output_type": "stream",
     "text": [
      "0.14631358001\n",
      "0.922770619096\n",
      "RandomForestRegressor(bootstrap=True, criterion='mse', max_depth=None,\n",
      "           max_features='auto', max_leaf_nodes=None,\n",
      "           min_impurity_decrease=0.0, min_impurity_split=None,\n",
      "           min_samples_leaf=1, min_samples_split=2,\n",
      "           min_weight_fraction_leaf=0.0, n_estimators=100, n_jobs=1,\n",
      "           oob_score=True, random_state=123456, verbose=0,\n",
      "           warm_start=False)\n"
     ]
    }
   ],
   "source": [
    "from sklearn.metrics import mean_squared_error, r2_score\n",
    "print mean_squared_error(y_test, predicted)\n",
    "print r2_score(y_test, predicted)\n",
    "print rf"
   ]
  },
  {
   "cell_type": "code",
   "execution_count": 107,
   "metadata": {},
   "outputs": [
    {
     "data": {
      "text/plain": [
       "GradientBoostingRegressor(alpha=0.9, criterion='friedman_mse', init=None,\n",
       "             learning_rate=0.1, loss='ls', max_depth=3, max_features=None,\n",
       "             max_leaf_nodes=None, min_impurity_decrease=0.0,\n",
       "             min_impurity_split=None, min_samples_leaf=1,\n",
       "             min_samples_split=2, min_weight_fraction_leaf=0.0,\n",
       "             n_estimators=100, presort='auto', random_state=None,\n",
       "             subsample=1.0, verbose=0, warm_start=False)"
      ]
     },
     "execution_count": 107,
     "metadata": {},
     "output_type": "execute_result"
    }
   ],
   "source": [
    "#modelling with gradient boosted tree regression\n",
    "from sklearn.ensemble import GradientBoostingRegressor\n",
    "gbr = GradientBoostingRegressor(n_estimators=100)\n",
    "gbr.fit(X_train, y_train)"
   ]
  },
  {
   "cell_type": "code",
   "execution_count": 108,
   "metadata": {},
   "outputs": [
    {
     "name": "stdout",
     "output_type": "stream",
     "text": [
      "0.141119448611\n",
      "0.925512261753\n"
     ]
    }
   ],
   "source": [
    "predicted_gbr = gbr.predict(X_test)\n",
    "print mean_squared_error(y_test, predicted_gbr)\n",
    "print r2_score(y_test, predicted_gbr)"
   ]
  },
  {
   "cell_type": "code",
   "execution_count": 109,
   "metadata": {},
   "outputs": [
    {
     "data": {
      "text/plain": [
       "AdaBoostRegressor(base_estimator=None, learning_rate=1.0, loss='linear',\n",
       "         n_estimators=100, random_state=None)"
      ]
     },
     "execution_count": 109,
     "metadata": {},
     "output_type": "execute_result"
    }
   ],
   "source": [
    "#modelling with ada boosted tree regression\n",
    "from sklearn.ensemble import AdaBoostRegressor\n",
    "abr = AdaBoostRegressor(n_estimators=100)\n",
    "abr.fit(X_train, y_train)"
   ]
  },
  {
   "cell_type": "code",
   "execution_count": 110,
   "metadata": {},
   "outputs": [
    {
     "name": "stdout",
     "output_type": "stream",
     "text": [
      "0.165945571917\n",
      "0.912408173035\n",
      "{'n_estimators': 100, 'loss': 'linear', 'base_estimator': None, 'random_state': None, 'learning_rate': 1.0}\n"
     ]
    }
   ],
   "source": [
    "predicted_abr = abr.predict(X_test)\n",
    "print mean_squared_error(y_test, predicted_abr)\n",
    "print r2_score(y_test, predicted_abr)\n",
    "print abr.get_params()"
   ]
  },
  {
   "cell_type": "code",
   "execution_count": 111,
   "metadata": {},
   "outputs": [
    {
     "name": "stdout",
     "output_type": "stream",
     "text": [
      "0.923072877631\n",
      "0.912907818082\n",
      "0.925652677561\n"
     ]
    }
   ],
   "source": [
    "from sklearn.metrics import explained_variance_score\n",
    "print explained_variance_score(y_test, predicted)\n",
    "print explained_variance_score(y_test, predicted_abr)\n",
    "print explained_variance_score(y_test, predicted_gbr)\n"
   ]
  },
  {
   "cell_type": "code",
   "execution_count": 112,
   "metadata": {},
   "outputs": [
    {
     "data": {
      "text/plain": [
       "AdaBoostRegressor(base_estimator=None, learning_rate=1.0, loss='linear',\n",
       "         n_estimators=100, random_state=None)"
      ]
     },
     "execution_count": 112,
     "metadata": {},
     "output_type": "execute_result"
    }
   ],
   "source": [
    "#modelling with isolation forest\n",
    "from sklearn.ensemble import IsolationForest\n",
    "ifr = AdaBoostRegressor(n_estimators=100)\n",
    "ifr.fit(X_train, y_train)"
   ]
  },
  {
   "cell_type": "code",
   "execution_count": 113,
   "metadata": {},
   "outputs": [
    {
     "name": "stdout",
     "output_type": "stream",
     "text": [
      "0.167629231362\n",
      "0.911519479199\n",
      "0.911684694516\n"
     ]
    }
   ],
   "source": [
    "predicted_ifr = ifr.predict(X_test)\n",
    "print mean_squared_error(y_test, predicted_ifr)\n",
    "print r2_score(y_test, predicted_ifr)\n",
    "print explained_variance_score(y_test, predicted_ifr)"
   ]
  }
 ],
 "metadata": {
  "kernelspec": {
   "display_name": "Python 2",
   "language": "python",
   "name": "python2"
  },
  "language_info": {
   "codemirror_mode": {
    "name": "ipython",
    "version": 2
   },
   "file_extension": ".py",
   "mimetype": "text/x-python",
   "name": "python",
   "nbconvert_exporter": "python",
   "pygments_lexer": "ipython2",
   "version": "2.7.12"
  }
 },
 "nbformat": 4,
 "nbformat_minor": 1
}

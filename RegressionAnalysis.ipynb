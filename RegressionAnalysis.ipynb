{
 "cells": [
  {
   "cell_type": "code",
   "execution_count": 49,
   "metadata": {
    "collapsed": true
   },
   "outputs": [],
   "source": [
    "import pandas as pd\n",
    "import numpy as np\n",
    "import datetime as dt\n",
    "\n",
    "import matplotlib.pyplot as plt\n",
    "import matplotlib.dates as pltdt\n",
    "%matplotlib inline\n",
    "\n",
    "import seaborn as sns\n",
    "sns.set_style(\"darkgrid\")"
   ]
  },
  {
   "cell_type": "code",
   "execution_count": 50,
   "metadata": {},
   "outputs": [],
   "source": [
    "power_countries_1986_2015 = pd.read_csv(\"EMHIRESPV_TSh_CF_Country_19862015.csv\")\n"
   ]
  },
  {
   "cell_type": "code",
   "execution_count": 51,
   "metadata": {
    "collapsed": true
   },
   "outputs": [],
   "source": [
    "#print(power_countries_1986_2015.head())"
   ]
  },
  {
   "cell_type": "code",
   "execution_count": 52,
   "metadata": {
    "collapsed": true
   },
   "outputs": [],
   "source": [
    "#print(meteorological_france_2006_2015.head())"
   ]
  },
  {
   "cell_type": "code",
   "execution_count": 53,
   "metadata": {
    "collapsed": true
   },
   "outputs": [],
   "source": [
    "#power_countries_1986_2015.shape"
   ]
  },
  {
   "cell_type": "code",
   "execution_count": 54,
   "metadata": {
    "collapsed": true
   },
   "outputs": [],
   "source": [
    "#meteorological_france_2006_2015.shape"
   ]
  },
  {
   "cell_type": "code",
   "execution_count": 55,
   "metadata": {
    "collapsed": true
   },
   "outputs": [],
   "source": [
    "t_h = pd.date_range('1/1/1986', periods=262968, freq='H')"
   ]
  },
  {
   "cell_type": "code",
   "execution_count": 56,
   "metadata": {
    "collapsed": true
   },
   "outputs": [],
   "source": [
    "power_countries_1986_2015[\"HOUR\"] = t_h\n",
    "power_countries_1986_2015.set_index(\"HOUR\", inplace = True)"
   ]
  },
  {
   "cell_type": "code",
   "execution_count": 57,
   "metadata": {
    "collapsed": true
   },
   "outputs": [],
   "source": [
    "#print(power_countries_1986_2015.head())"
   ]
  },
  {
   "cell_type": "code",
   "execution_count": 58,
   "metadata": {
    "collapsed": true
   },
   "outputs": [],
   "source": [
    "power_countries_1986_2015['DAY']=power_countries_1986_2015.index.map(lambda x: x.strftime('%Y-%m-%d'))\n",
    "power_countries_1986_2015_day = power_countries_1986_2015.groupby('DAY').sum()"
   ]
  },
  {
   "cell_type": "code",
   "execution_count": 59,
   "metadata": {},
   "outputs": [
    {
     "data": {
      "text/plain": [
       "(10957, 29)"
      ]
     },
     "execution_count": 59,
     "metadata": {},
     "output_type": "execute_result"
    }
   ],
   "source": [
    "power_countries_1986_2015_day.shape"
   ]
  },
  {
   "cell_type": "code",
   "execution_count": 60,
   "metadata": {
    "collapsed": true
   },
   "outputs": [],
   "source": [
    "#print(power_countries_1986_2015_day.head())"
   ]
  },
  {
   "cell_type": "code",
   "execution_count": 61,
   "metadata": {
    "collapsed": true
   },
   "outputs": [],
   "source": [
    "power_countries_2006_2015_day = power_countries_1986_2015_day.loc[\"2006-01-01\":\"2015-12-31\"]"
   ]
  },
  {
   "cell_type": "code",
   "execution_count": 62,
   "metadata": {},
   "outputs": [
    {
     "data": {
      "text/plain": [
       "(3652, 29)"
      ]
     },
     "execution_count": 62,
     "metadata": {},
     "output_type": "execute_result"
    }
   ],
   "source": [
    "power_countries_2006_2015_day.shape"
   ]
  },
  {
   "cell_type": "code",
   "execution_count": 63,
   "metadata": {},
   "outputs": [
    {
     "data": {
      "text/plain": [
       "(3652,)"
      ]
     },
     "execution_count": 63,
     "metadata": {},
     "output_type": "execute_result"
    }
   ],
   "source": [
    "t_d = pd.date_range('1/1/2006', periods=3652, freq='D')\n",
    "t_d.shape"
   ]
  },
  {
   "cell_type": "code",
   "execution_count": 64,
   "metadata": {
    "collapsed": true
   },
   "outputs": [],
   "source": [
    "power_france_2006_2015_day = power_countries_2006_2015_day[\"FR\"]"
   ]
  },
  {
   "cell_type": "code",
   "execution_count": 65,
   "metadata": {},
   "outputs": [
    {
     "data": {
      "text/plain": [
       "(3652,)"
      ]
     },
     "execution_count": 65,
     "metadata": {},
     "output_type": "execute_result"
    }
   ],
   "source": [
    "power_france_2006_2015_day.shape"
   ]
  },
  {
   "cell_type": "code",
   "execution_count": 66,
   "metadata": {},
   "outputs": [
    {
     "data": {
      "text/plain": [
       "DAY\n",
       "2006-01-01    0.981080\n",
       "2006-01-02    1.201579\n",
       "2006-01-03    1.113526\n",
       "2006-01-04    1.471551\n",
       "2006-01-05    1.014190\n",
       "Name: FR, dtype: float64"
      ]
     },
     "execution_count": 66,
     "metadata": {},
     "output_type": "execute_result"
    }
   ],
   "source": [
    "power_france_2006_2015_day.head()"
   ]
  },
  {
   "cell_type": "code",
   "execution_count": 67,
   "metadata": {},
   "outputs": [],
   "source": [
    "meteorological_france_2006_2015 = pd.read_csv(\"france_2006_2015_ver2_0_9258_487749847.csv\", sep=\";\")\n",
    "meteorological_france_2006_2015_day = meteorological_france_2006_2015.groupby('DAY').mean()"
   ]
  },
  {
   "cell_type": "code",
   "execution_count": 68,
   "metadata": {},
   "outputs": [
    {
     "data": {
      "text/plain": [
       "(3652, 15)"
      ]
     },
     "execution_count": 68,
     "metadata": {},
     "output_type": "execute_result"
    }
   ],
   "source": [
    "meteorological_france_2006_2015_day.shape"
   ]
  },
  {
   "cell_type": "code",
   "execution_count": 70,
   "metadata": {},
   "outputs": [
    {
     "data": {
      "text/plain": [
       "<bound method NDFrame.head of                GRID_NO   LATITUDE  LONGITUDE    ALTITUDE  TEMPERATURE_MAX  \\\n",
       "DAY                                                                         \n",
       "20060101  82982.985045  46.453877   2.589603  290.929212         7.536590   \n",
       "20060102  82982.985045  46.453877   2.589603  290.929212         6.788734   \n",
       "20060103  82982.985045  46.453877   2.589603  290.929212         6.067498   \n",
       "20060104  82982.985045  46.453877   2.589603  290.929212         4.679661   \n",
       "20060105  82982.985045  46.453877   2.589603  290.929212         2.080359   \n",
       "20060106  82982.985045  46.453877   2.589603  290.929212         3.779063   \n",
       "20060107  82982.985045  46.453877   2.589603  290.929212         4.402193   \n",
       "20060108  82982.985045  46.453877   2.589603  290.929212         6.149950   \n",
       "20060109  82982.985045  46.453877   2.589603  290.929212         5.574177   \n",
       "20060110  82982.985045  46.453877   2.589603  290.929212         5.240379   \n",
       "20060111  82982.985045  46.453877   2.589603  290.929212         5.425424   \n",
       "20060112  82982.985045  46.453877   2.589603  290.929212         6.316251   \n",
       "20060113  82982.985045  46.453877   2.589603  290.929212         7.323829   \n",
       "20060114  82982.985045  46.453877   2.589603  290.929212         7.714257   \n",
       "20060115  82982.985045  46.453877   2.589603  290.929212         6.696012   \n",
       "20060116  82982.985045  46.453877   2.589603  290.929212         6.665105   \n",
       "20060117  82982.985045  46.453877   2.589603  290.929212         7.875573   \n",
       "20060118  82982.985045  46.453877   2.589603  290.929212         9.082154   \n",
       "20060119  82982.985045  46.453877   2.589603  290.929212         9.890728   \n",
       "20060120  82982.985045  46.453877   2.589603  290.929212         9.513061   \n",
       "20060121  82982.985045  46.453877   2.589603  290.929212         8.639681   \n",
       "20060122  82982.985045  46.453877   2.589603  290.929212         6.509571   \n",
       "20060123  82982.985045  46.453877   2.589603  290.929212         4.934596   \n",
       "20060124  82982.985045  46.453877   2.589603  290.929212         5.005783   \n",
       "20060125  82982.985045  46.453877   2.589603  290.929212         5.950847   \n",
       "20060126  82982.985045  46.453877   2.589603  290.929212         2.674576   \n",
       "20060127  82982.985045  46.453877   2.589603  290.929212        -0.023131   \n",
       "20060128  82982.985045  46.453877   2.589603  290.929212         1.580857   \n",
       "20060129  82982.985045  46.453877   2.589603  290.929212         5.376471   \n",
       "20060130  82982.985045  46.453877   2.589603  290.929212         6.600897   \n",
       "...                ...        ...        ...         ...              ...   \n",
       "20151202  82982.985045  46.453877   2.589603  290.929212        11.850050   \n",
       "20151203  82982.985045  46.453877   2.589603  290.929212        10.704487   \n",
       "20151204  82982.985045  46.453877   2.589603  290.929212        11.386939   \n",
       "20151205  82982.985045  46.453877   2.589603  290.929212        10.137188   \n",
       "20151206  82982.985045  46.453877   2.589603  290.929212        13.017348   \n",
       "20151207  82982.985045  46.453877   2.589603  290.929212        14.010169   \n",
       "20151208  82982.985045  46.453877   2.589603  290.929212        12.732901   \n",
       "20151209  82982.985045  46.453877   2.589603  290.929212        10.591426   \n",
       "20151210  82982.985045  46.453877   2.589603  290.929212         8.568893   \n",
       "20151211  82982.985045  46.453877   2.589603  290.929212        10.890229   \n",
       "20151212  82982.985045  46.453877   2.589603  290.929212        11.479761   \n",
       "20151213  82982.985045  46.453877   2.589603  290.929212         9.629611   \n",
       "20151214  82982.985045  46.453877   2.589603  290.929212        10.759621   \n",
       "20151215  82982.985045  46.453877   2.589603  290.929212        12.071486   \n",
       "20151216  82982.985045  46.453877   2.589603  290.929212        14.107876   \n",
       "20151217  82982.985045  46.453877   2.589603  290.929212        14.957527   \n",
       "20151218  82982.985045  46.453877   2.589603  290.929212        13.864307   \n",
       "20151219  82982.985045  46.453877   2.589603  290.929212        14.719043   \n",
       "20151220  82982.985045  46.453877   2.589603  290.929212        13.835095   \n",
       "20151221  82982.985045  46.453877   2.589603  290.929212        12.810469   \n",
       "20151222  82982.985045  46.453877   2.589603  290.929212        13.272483   \n",
       "20151223  82982.985045  46.453877   2.589603  290.929212        12.686341   \n",
       "20151224  82982.985045  46.453877   2.589603  290.929212        13.366401   \n",
       "20151225  82982.985045  46.453877   2.589603  290.929212        14.207178   \n",
       "20151226  82982.985045  46.453877   2.589603  290.929212        13.656431   \n",
       "20151227  82982.985045  46.453877   2.589603  290.929212        13.201894   \n",
       "20151228  82982.985045  46.453877   2.589603  290.929212        12.864108   \n",
       "20151229  82982.985045  46.453877   2.589603  290.929212        11.660618   \n",
       "20151230  82982.985045  46.453877   2.589603  290.929212        11.700798   \n",
       "20151231  82982.985045  46.453877   2.589603  290.929212        10.546062   \n",
       "\n",
       "          TEMPERATURE_MIN  TEMPERATURE_AVG  WINDSPEED  VAPOURPRESSURE  \\\n",
       "DAY                                                                     \n",
       "20060101         2.931306         5.234895   5.001097        7.792114   \n",
       "20060102         3.453141         5.121934   3.652941        7.303749   \n",
       "20060103         1.962014         4.015254   2.862612        6.738744   \n",
       "20060104         0.788136         2.735593   3.160020        6.270528   \n",
       "20060105        -1.576869         0.251147   2.734397        5.392353   \n",
       "20060106        -1.406281         1.187139   2.868794        5.804078   \n",
       "20060107         0.301994         2.352343   2.741775        6.377547   \n",
       "20060108         1.383151         3.767996   2.940977        6.867458   \n",
       "20060109         0.542971         3.058026   2.195115        6.592064   \n",
       "20060110        -0.949651         2.143968   2.441476        6.237478   \n",
       "20060111        -1.188833         2.117747   2.700399        6.338225   \n",
       "20060112         0.574975         3.446560   2.215753        6.909781   \n",
       "20060113         0.361216         3.843470   3.493819        6.368544   \n",
       "20060114        -0.617647         3.548953   2.989033        5.990429   \n",
       "20060115        -1.512064         2.593121   3.630110        5.921884   \n",
       "20060116         0.482353         3.574477   3.678564        6.747488   \n",
       "20060117         3.370389         5.623031   4.712463        8.513071   \n",
       "20060118         5.050449         7.065803   3.769990        9.323838   \n",
       "20060119         5.482353         7.686241   2.359023        9.249043   \n",
       "20060120         4.014058         6.763310   2.988933        8.518415   \n",
       "20060121         2.791625         5.717149   2.916849        7.551196   \n",
       "20060122         0.644267         3.577268   3.465105        5.996381   \n",
       "20060123        -1.506381         1.714756   3.642772        4.764028   \n",
       "20060124        -4.525922         0.240778   2.815653        4.346331   \n",
       "20060125        -4.466102         0.744167   2.386241        4.799541   \n",
       "20060126        -2.690927        -0.006580   3.987139        4.918644   \n",
       "20060127        -3.024028        -1.523829   3.811864        4.396969   \n",
       "20060128        -3.870987        -1.144467   4.026221        4.858335   \n",
       "20060129        -0.987039         2.196411   4.085444        5.617537   \n",
       "20060130        -0.608275         2.994716   3.569691        5.561107   \n",
       "...                   ...              ...        ...             ...   \n",
       "20151202         3.842173         7.846361   1.820339        7.912742   \n",
       "20151203         2.370788         6.535593   2.656830        7.867328   \n",
       "20151204         4.430209         7.907876   2.528315        8.646072   \n",
       "20151205         3.394317         6.764307   2.773380        8.709940   \n",
       "20151206         5.277268         9.148156   3.370987        9.900658   \n",
       "20151207         6.548355        10.279960   2.943170        9.904546   \n",
       "20151208         5.947159         9.339581   2.700897        9.948086   \n",
       "20151209         4.893519         7.743270   2.337986        8.469242   \n",
       "20151210         0.878863         4.722333   2.366002        6.891854   \n",
       "20151211         1.626820         6.259222   2.809272        8.239003   \n",
       "20151212         4.536790         8.010070   2.426820        8.587547   \n",
       "20151213         2.813360         6.220837   2.054038        8.018235   \n",
       "20151214         2.471186         6.615852   2.658724        8.318893   \n",
       "20151215         5.208674         8.639083   2.846560        9.839721   \n",
       "20151216         7.579262        10.842173   2.845065       11.278245   \n",
       "20151217         7.972782        11.465404   2.723430       10.790010   \n",
       "20151218         7.842871        10.853440   2.207577       10.785344   \n",
       "20151219         7.080259        10.900100   3.047358       10.304217   \n",
       "20151220         8.205783        11.021236   3.596112       10.532483   \n",
       "20151221         7.957328        10.386241   3.943071       10.363320   \n",
       "20151222         6.929412        10.099501   4.300698        9.982512   \n",
       "20151223         6.986142         9.834696   3.143569        9.972702   \n",
       "20151224         6.563609         9.964806   3.731406        9.868883   \n",
       "20151225         6.375872        10.290828   3.160319        9.976839   \n",
       "20151226         5.995513         9.824526   2.983250        9.479053   \n",
       "20151227         5.323928         9.261914   2.870389        8.930319   \n",
       "20151228         4.701496         8.782951   4.000299        8.542423   \n",
       "20151229         6.228714         8.942971   3.098305        8.950638   \n",
       "20151230         3.937886         7.817747   3.841775        8.364477   \n",
       "20151231         5.740778         8.143071   2.964806        9.097298   \n",
       "\n",
       "          PRECIPITATION        E0       ES0       ET0    RADIATION  SNOWDEPTH  \n",
       "DAY                                                                            \n",
       "20060101       5.722333  0.436790  0.381186  0.614905  3049.951147   7.942857  \n",
       "20060102       0.465204  0.439681  0.380588  0.664437  3304.593220  11.835813  \n",
       "20060103       0.682253  0.447258  0.389910  0.617697  3235.214357  16.168996  \n",
       "20060104       0.615753  0.361645  0.308963  0.562512  3584.273180  12.626829  \n",
       "20060105       0.974177  0.276371  0.237338  0.437378  3083.100698   6.291993  \n",
       "20060106       0.696909  0.224347  0.182134  0.439741  3463.899302   6.411561  \n",
       "20060107       1.390429  0.304337  0.260887  0.463380  2786.549352   5.747059  \n",
       "20060108       3.407378  0.356580  0.302991  0.546072  3297.511466  13.535405  \n",
       "20060109       1.255533  0.216530  0.171854  0.436431  3956.042871  12.288089  \n",
       "20060110       0.045763  0.201904  0.154327  0.400120  4515.381854  12.586921  \n",
       "20060111       1.326820  0.221346  0.172512  0.407458  4620.330010  11.070075  \n",
       "20060112       0.081456  0.304028  0.241974  0.459402  3723.401795  11.750139  \n",
       "20060113       0.131705  0.364566  0.282572  0.708285  5386.248255  11.849275  \n",
       "20060114       0.091825  0.260349  0.191286  0.689611  6131.393819  10.748556  \n",
       "20060115       0.264806  0.318973  0.234437  0.705304  5634.982054  13.307807  \n",
       "20060116       2.654536  0.439651  0.379821  0.663280  3514.093719  13.808798  \n",
       "20060117       6.481655  0.424835  0.371286  0.518245  2852.945165  10.535263  \n",
       "20060118       1.173679  0.433539  0.374467  0.537936  3027.566301  18.461607  \n",
       "20060119       0.278465  0.457827  0.379073  0.620997  3921.046859  33.322826  \n",
       "20060120       0.890130  0.477448  0.402692  0.665533  4246.079761  27.050000  \n",
       "20060121       0.244965  0.385434  0.294237  0.680628  5116.721834  36.178528  \n",
       "20060122       0.051446  0.544646  0.447049  0.823559  5577.588235  30.650000  \n",
       "20060123       0.016351  0.506351  0.395035  0.882672  7052.070788  13.577642  \n",
       "20060124       0.016351  0.301545  0.203948  0.743948  7782.965105  13.269139  \n",
       "20060125       0.192024  0.251306  0.154277  0.650668  7701.254237  16.639338  \n",
       "20060126       0.641575  0.584796  0.514417  0.707059  4194.285145   5.956481  \n",
       "20060127       3.222532  0.504835  0.444546  0.626002  3867.882353   5.350858  \n",
       "20060128       5.279661  0.461515  0.408195  0.566680  3462.777667   9.013996  \n",
       "20060129       3.246959  0.612502  0.529870  0.866391  4818.115653  10.487417  \n",
       "20060130       0.608674  0.516052  0.398106  0.939890  6901.143569   6.833057  \n",
       "...                 ...       ...       ...       ...          ...        ...  \n",
       "20151202       0.051944  0.354945  0.304556  0.635813  4831.224327   0.269269  \n",
       "20151203       0.596211  0.267617  0.208973  0.598993  4668.231306   0.275275  \n",
       "20151204       0.247956  0.343848  0.280369  0.678395  3925.853440   0.249750  \n",
       "20151205       0.461316  0.232213  0.184417  0.484477  4048.460618   0.163163  \n",
       "20151206       0.376869  0.329033  0.259870  0.678175  4025.408774   0.141141  \n",
       "20151207       0.616750  0.322881  0.248604  0.756271  4600.931206   0.195609  \n",
       "20151208       2.797009  0.324696  0.267757  0.644526  3767.030907   0.173173  \n",
       "20151209       0.126221  0.246221  0.194706  0.573041  4363.078764   0.349301  \n",
       "20151210       0.118445  0.223968  0.176421  0.517996  4563.126620   0.258483  \n",
       "20151211       0.733500  0.171087  0.131226  0.454686  4228.531406   0.245509  \n",
       "20151212       0.120239  0.263021  0.214177  0.561545  4307.842473   0.117117  \n",
       "20151213       0.082652  0.208883  0.167129  0.461854  3916.646062   0.130130  \n",
       "20151214       0.814756  0.189850  0.139860  0.525813  4227.466600   0.283433  \n",
       "20151215       4.636889  0.277667  0.229531  0.539242  3313.736790   0.165165  \n",
       "20151216       0.334297  0.314806  0.259133  0.553430  3341.067797   0.151151  \n",
       "20151217       0.299601  0.401595  0.335733  0.768405  3981.694915   0.300100  \n",
       "20151218       0.111964  0.328684  0.270977  0.587996  3460.074776   0.134134  \n",
       "20151219       0.063111  0.385414  0.321246  0.823430  4194.720837   0.093093  \n",
       "20151220       1.913559  0.547029  0.485803  0.882592  3303.397807   0.093093  \n",
       "20151221       1.540080  0.428604  0.362742  0.739452  3608.786640   0.083083  \n",
       "20151222       0.747557  0.535862  0.478415  0.879970  3919.316052   0.094905  \n",
       "20151223       0.369791  0.409222  0.348365  0.725244  3619.352941   0.080080  \n",
       "20151224       1.090628  0.459801  0.389242  0.837996  3736.376869   0.099099  \n",
       "20151225       0.390030  0.339611  0.277577  0.743968  4254.010967   0.099099  \n",
       "20151226       0.054536  0.320259  0.257866  0.764108  4572.251246   0.085329  \n",
       "20151227       0.035394  0.356899  0.293888  0.780469  4413.453639   0.160679  \n",
       "20151228       1.213260  0.549123  0.484158  1.013380  4187.329013   0.110110  \n",
       "20151229       0.583450  0.443001  0.375533  0.808853  3625.338983   0.172172  \n",
       "20151230       1.812164  0.445075  0.373938  0.860837  4462.850449   0.134134  \n",
       "20151231       1.344666  0.359970  0.306570  0.673819  3156.307079   0.067067  \n",
       "\n",
       "[3652 rows x 15 columns]>"
      ]
     },
     "execution_count": 70,
     "metadata": {},
     "output_type": "execute_result"
    }
   ],
   "source": [
    "meteorological_france_2006_2015_day.head"
   ]
  },
  {
   "cell_type": "code",
   "execution_count": 71,
   "metadata": {
    "collapsed": true
   },
   "outputs": [],
   "source": [
    "meteorological_france_2006_2015_day[\"DAY\"] = t_d\n",
    "meteorological_france_2006_2015_day.set_index(\"DAY\", inplace=True)"
   ]
  },
  {
   "cell_type": "code",
   "execution_count": 72,
   "metadata": {
    "collapsed": true
   },
   "outputs": [],
   "source": [
    "#meteorological_france_2006_2015_day.head"
   ]
  },
  {
   "cell_type": "code",
   "execution_count": 73,
   "metadata": {},
   "outputs": [
    {
     "data": {
      "text/plain": [
       "(3652, 15)"
      ]
     },
     "execution_count": 73,
     "metadata": {},
     "output_type": "execute_result"
    }
   ],
   "source": [
    "meteorological_france_2006_2015_day.shape"
   ]
  },
  {
   "cell_type": "code",
   "execution_count": 74,
   "metadata": {
    "collapsed": true
   },
   "outputs": [],
   "source": [
    "#print(meteorological_france_2006_2015_day.head())"
   ]
  },
  {
   "cell_type": "code",
   "execution_count": 75,
   "metadata": {
    "collapsed": true
   },
   "outputs": [],
   "source": [
    "france_2006_2015_day = pd.concat([power_france_2006_2015_day, meteorological_france_2006_2015_day], axis=1)"
   ]
  },
  {
   "cell_type": "code",
   "execution_count": 76,
   "metadata": {},
   "outputs": [
    {
     "data": {
      "text/plain": [
       "(3652, 16)"
      ]
     },
     "execution_count": 76,
     "metadata": {},
     "output_type": "execute_result"
    }
   ],
   "source": [
    "france_2006_2015_day.shape"
   ]
  },
  {
   "cell_type": "code",
   "execution_count": 77,
   "metadata": {},
   "outputs": [
    {
     "name": "stdout",
     "output_type": "stream",
     "text": [
      "                  FR       GRID_NO   LATITUDE  LONGITUDE    ALTITUDE  \\\n",
      "DAY                                                                    \n",
      "2006-01-01  0.981080  82982.985045  46.453877   2.589603  290.929212   \n",
      "2006-01-02  1.201579  82982.985045  46.453877   2.589603  290.929212   \n",
      "2006-01-03  1.113526  82982.985045  46.453877   2.589603  290.929212   \n",
      "2006-01-04  1.471551  82982.985045  46.453877   2.589603  290.929212   \n",
      "2006-01-05  1.014190  82982.985045  46.453877   2.589603  290.929212   \n",
      "\n",
      "            TEMPERATURE_MAX  TEMPERATURE_MIN  TEMPERATURE_AVG  WINDSPEED  \\\n",
      "DAY                                                                        \n",
      "2006-01-01         7.536590         2.931306         5.234895   5.001097   \n",
      "2006-01-02         6.788734         3.453141         5.121934   3.652941   \n",
      "2006-01-03         6.067498         1.962014         4.015254   2.862612   \n",
      "2006-01-04         4.679661         0.788136         2.735593   3.160020   \n",
      "2006-01-05         2.080359        -1.576869         0.251147   2.734397   \n",
      "\n",
      "            VAPOURPRESSURE  PRECIPITATION        E0       ES0       ET0  \\\n",
      "DAY                                                                       \n",
      "2006-01-01        7.792114       5.722333  0.436790  0.381186  0.614905   \n",
      "2006-01-02        7.303749       0.465204  0.439681  0.380588  0.664437   \n",
      "2006-01-03        6.738744       0.682253  0.447258  0.389910  0.617697   \n",
      "2006-01-04        6.270528       0.615753  0.361645  0.308963  0.562512   \n",
      "2006-01-05        5.392353       0.974177  0.276371  0.237338  0.437378   \n",
      "\n",
      "              RADIATION  SNOWDEPTH  \n",
      "DAY                                 \n",
      "2006-01-01  3049.951147   7.942857  \n",
      "2006-01-02  3304.593220  11.835813  \n",
      "2006-01-03  3235.214357  16.168996  \n",
      "2006-01-04  3584.273180  12.626829  \n",
      "2006-01-05  3083.100698   6.291993  \n"
     ]
    }
   ],
   "source": [
    "print(france_2006_2015_day.head())"
   ]
  },
  {
   "cell_type": "code",
   "execution_count": 78,
   "metadata": {},
   "outputs": [
    {
     "data": {
      "text/plain": [
       "DatetimeIndex(['2006-01-01', '2006-01-02', '2006-01-03', '2006-01-04',\n",
       "               '2006-01-05', '2006-01-06', '2006-01-07', '2006-01-08',\n",
       "               '2006-01-09', '2006-01-10',\n",
       "               ...\n",
       "               '2015-12-22', '2015-12-23', '2015-12-24', '2015-12-25',\n",
       "               '2015-12-26', '2015-12-27', '2015-12-28', '2015-12-29',\n",
       "               '2015-12-30', '2015-12-31'],\n",
       "              dtype='datetime64[ns]', name='DAY', length=3652, freq=None)"
      ]
     },
     "execution_count": 78,
     "metadata": {},
     "output_type": "execute_result"
    }
   ],
   "source": [
    "france_2006_2015_day.index = pd.to_datetime(france_2006_2015_day.index)\n",
    "france_2006_2015_day.index"
   ]
  },
  {
   "cell_type": "code",
   "execution_count": 79,
   "metadata": {},
   "outputs": [
    {
     "data": {
      "text/plain": [
       "DatetimeIndex(['2006-01-01', '2006-02-01', '2006-03-01', '2006-04-01',\n",
       "               '2006-05-01', '2006-06-01', '2006-07-01', '2006-08-01',\n",
       "               '2006-09-01', '2006-10-01',\n",
       "               ...\n",
       "               '2015-03-01', '2015-04-01', '2015-05-01', '2015-06-01',\n",
       "               '2015-07-01', '2015-08-01', '2015-09-01', '2015-10-01',\n",
       "               '2015-11-01', '2015-12-01'],\n",
       "              dtype='datetime64[ns]', name='MONTH', length=120, freq=None)"
      ]
     },
     "execution_count": 79,
     "metadata": {},
     "output_type": "execute_result"
    }
   ],
   "source": [
    "france_2006_2015_day[\"MONTH\"] = france_2006_2015_day.index.map(lambda x: x.strftime(\"%Y-%m\"))\n",
    "france_2006_2015_day[\"MONTH_ONLY\"] = france_2006_2015_day.index.map(lambda x: x.strftime(\"%m\"))\n",
    "france_2006_2015_month = france_2006_2015_day.groupby(\"MONTH\").mean()\n",
    "france_2006_2015_month.index = pd.to_datetime(france_2006_2015_month.index)\n",
    "france_2006_2015_month.index"
   ]
  },
  {
   "cell_type": "code",
   "execution_count": 80,
   "metadata": {},
   "outputs": [
    {
     "name": "stdout",
     "output_type": "stream",
     "text": [
      "                  FR       GRID_NO   LATITUDE  LONGITUDE    ALTITUDE  \\\n",
      "MONTH                                                                  \n",
      "2006-01-01  1.711850  82982.985045  46.453877   2.589603  290.929212   \n",
      "2006-02-01  1.796412  82982.985045  46.453877   2.589603  290.929212   \n",
      "2006-03-01  2.692156  82982.985045  46.453877   2.589603  290.929212   \n",
      "2006-04-01  3.689884  82982.985045  46.453877   2.589603  290.929212   \n",
      "2006-05-01  3.767550  82982.985045  46.453877   2.589603  290.929212   \n",
      "\n",
      "            TEMPERATURE_MAX  TEMPERATURE_MIN  TEMPERATURE_AVG  WINDSPEED  \\\n",
      "MONTH                                                                      \n",
      "2006-01-01         5.890522         0.120606         3.006030   3.231396   \n",
      "2006-02-01         6.563517         0.210504         3.387327   3.574530   \n",
      "2006-03-01        10.895160         3.095089         6.995607   4.411556   \n",
      "2006-04-01        15.449438         5.642047        10.546248   3.418664   \n",
      "2006-05-01        19.311877         9.704532        14.508375   3.633779   \n",
      "\n",
      "            VAPOURPRESSURE  PRECIPITATION        E0       ES0       ET0  \\\n",
      "MONTH                                                                     \n",
      "2006-01-01        6.378408       1.361229  0.387510  0.317855  0.624242   \n",
      "2006-02-01        6.268154       1.929273  0.857128  0.739750  0.944720   \n",
      "2006-03-01        7.788870       3.331206  1.772589  1.561946  1.684277   \n",
      "2006-04-01        9.069655       1.298488  2.909778  2.552848  2.602726   \n",
      "2006-05-01       11.945550       2.258129  3.879538  3.439609  3.318349   \n",
      "\n",
      "               RADIATION  SNOWDEPTH  \n",
      "MONTH                                \n",
      "2006-01-01   4541.459107  13.616153  \n",
      "2006-02-01   6282.585387  15.513973  \n",
      "2006-03-01  10126.878365  23.348449  \n",
      "2006-04-01  15521.762114  12.762958  \n",
      "2006-05-01  17382.626186   7.187448  \n"
     ]
    }
   ],
   "source": [
    "print(france_2006_2015_month.head())"
   ]
  },
  {
   "cell_type": "code",
   "execution_count": 81,
   "metadata": {
    "collapsed": true
   },
   "outputs": [],
   "source": [
    "france_2006_2015_day[\"YEAR\"] = france_2006_2015_day.index.map(lambda x: x.strftime(\"%Y\"))\n",
    "france_2006_2015_day[\"DAY_ONLY\"] = france_2006_2015_day.index.map(lambda x: x.strftime(\"%d\"))"
   ]
  },
  {
   "cell_type": "markdown",
   "metadata": {},
   "source": [
    "# Regression Analysis."
   ]
  },
  {
   "cell_type": "code",
   "execution_count": 83,
   "metadata": {},
   "outputs": [
    {
     "data": {
      "text/plain": [
       "<matplotlib.axes._subplots.AxesSubplot at 0x1d273b210f0>"
      ]
     },
     "execution_count": 83,
     "metadata": {},
     "output_type": "execute_result"
    },
    {
     "data": {
      "image/png": "[encoded data removed]",
      "text/plain": [
       "<matplotlib.figure.Figure at 0x1d214dac8d0>"
      ]
     },
     "metadata": {},
     "output_type": "display_data"
    }
   ],
   "source": [
    "#Getting correlation matrix of the full dataset\n",
    "corr = france_2006_2015_day.corr()\n",
    "sns.heatmap(corr)#, \n",
    "        #xticklabels=corr.columns,\n",
    "        #yticklabels=corr.columns)"
   ]
  },
  {
   "cell_type": "code",
   "execution_count": 84,
   "metadata": {
    "scrolled": true
   },
   "outputs": [
    {
     "data": {
      "text/html": [
       "<div>\n",
       "<style>\n",
       "    .dataframe thead tr:only-child th {\n",
       "        text-align: right;\n",
       "    }\n",
       "\n",
       "    .dataframe thead th {\n",
       "        text-align: left;\n",
       "    }\n",
       "\n",
       "    .dataframe tbody tr th {\n",
       "        vertical-align: top;\n",
       "    }\n",
       "</style>\n",
       "<table border=\"1\" class=\"dataframe\">\n",
       "  <thead>\n",
       "    <tr style=\"text-align: right;\">\n",
       "      <th></th>\n",
       "      <th>FR</th>\n",
       "      <th>GRID_NO</th>\n",
       "      <th>LATITUDE</th>\n",
       "      <th>LONGITUDE</th>\n",
       "      <th>ALTITUDE</th>\n",
       "      <th>TEMPERATURE_MAX</th>\n",
       "      <th>TEMPERATURE_MIN</th>\n",
       "      <th>TEMPERATURE_AVG</th>\n",
       "      <th>WINDSPEED</th>\n",
       "      <th>VAPOURPRESSURE</th>\n",
       "      <th>PRECIPITATION</th>\n",
       "      <th>E0</th>\n",
       "      <th>ES0</th>\n",
       "      <th>ET0</th>\n",
       "      <th>RADIATION</th>\n",
       "      <th>SNOWDEPTH</th>\n",
       "      <th>MONTH</th>\n",
       "      <th>MONTH_ONLY</th>\n",
       "      <th>YEAR</th>\n",
       "      <th>DAY_ONLY</th>\n",
       "    </tr>\n",
       "    <tr>\n",
       "      <th>ALTITUDE</th>\n",
       "      <th></th>\n",
       "      <th></th>\n",
       "      <th></th>\n",
       "      <th></th>\n",
       "      <th></th>\n",
       "      <th></th>\n",
       "      <th></th>\n",
       "      <th></th>\n",
       "      <th></th>\n",
       "      <th></th>\n",
       "      <th></th>\n",
       "      <th></th>\n",
       "      <th></th>\n",
       "      <th></th>\n",
       "      <th></th>\n",
       "      <th></th>\n",
       "      <th></th>\n",
       "      <th></th>\n",
       "      <th></th>\n",
       "      <th></th>\n",
       "    </tr>\n",
       "  </thead>\n",
       "  <tbody>\n",
       "    <tr>\n",
       "      <th>290.929212</th>\n",
       "      <td>3652</td>\n",
       "      <td>1</td>\n",
       "      <td>1</td>\n",
       "      <td>1</td>\n",
       "      <td>1</td>\n",
       "      <td>3650</td>\n",
       "      <td>3648</td>\n",
       "      <td>3650</td>\n",
       "      <td>3646</td>\n",
       "      <td>3651</td>\n",
       "      <td>3635</td>\n",
       "      <td>3650</td>\n",
       "      <td>3651</td>\n",
       "      <td>3652</td>\n",
       "      <td>3651</td>\n",
       "      <td>2086</td>\n",
       "      <td>120</td>\n",
       "      <td>12</td>\n",
       "      <td>10</td>\n",
       "      <td>31</td>\n",
       "    </tr>\n",
       "  </tbody>\n",
       "</table>\n",
       "</div>"
      ],
      "text/plain": [
       "              FR  GRID_NO  LATITUDE  LONGITUDE  ALTITUDE  TEMPERATURE_MAX  \\\n",
       "ALTITUDE                                                                    \n",
       "290.929212  3652        1         1          1         1             3650   \n",
       "\n",
       "            TEMPERATURE_MIN  TEMPERATURE_AVG  WINDSPEED  VAPOURPRESSURE  \\\n",
       "ALTITUDE                                                                  \n",
       "290.929212             3648             3650       3646            3651   \n",
       "\n",
       "            PRECIPITATION    E0   ES0   ET0  RADIATION  SNOWDEPTH  MONTH  \\\n",
       "ALTITUDE                                                                   \n",
       "290.929212           3635  3650  3651  3652       3651       2086    120   \n",
       "\n",
       "            MONTH_ONLY  YEAR  DAY_ONLY  \n",
       "ALTITUDE                                \n",
       "290.929212          12    10        31  "
      ]
     },
     "execution_count": 84,
     "metadata": {},
     "output_type": "execute_result"
    }
   ],
   "source": [
    "france_2006_2015_day.groupby('ALTITUDE').nunique()"
   ]
  },
  {
   "cell_type": "code",
   "execution_count": 85,
   "metadata": {},
   "outputs": [
    {
     "data": {
      "text/plain": [
       "FR               float64\n",
       "WINDSPEED        float64\n",
       "PRECIPITATION    float64\n",
       "RADIATION        float64\n",
       "SNOWDEPTH        float64\n",
       "dtype: object"
      ]
     },
     "execution_count": 85,
     "metadata": {},
     "output_type": "execute_result"
    }
   ],
   "source": [
    "#Selecting datasets that have maximum correlation with the output and minimum internal correlation.\n",
    "france_2006_2015 = france_2006_2015_day[['FR','WINDSPEED','PRECIPITATION','RADIATION','SNOWDEPTH']] \n",
    "#Ignored the following columns'TEMPERATURE_AVG',,'MONTH_ONLY','MONTH','DAY_ONLY','YEAR','VAPOURPRESSURE',\n",
    "france_2006_2015.dtypes\n"
   ]
  },
  {
   "cell_type": "code",
   "execution_count": 86,
   "metadata": {},
   "outputs": [
    {
     "data": {
      "text/plain": [
       "FR               float64\n",
       "WINDSPEED        float64\n",
       "PRECIPITATION    float64\n",
       "RADIATION        float64\n",
       "SNOWDEPTH        float64\n",
       "dtype: object"
      ]
     },
     "execution_count": 86,
     "metadata": {},
     "output_type": "execute_result"
    }
   ],
   "source": [
    "franceDF = france_2006_2015.apply(pd.to_numeric, errors='ignore')\n",
    "franceDF.dtypes"
   ]
  },
  {
   "cell_type": "code",
   "execution_count": 88,
   "metadata": {},
   "outputs": [
    {
     "data": {
      "text/plain": [
       "<matplotlib.axes._subplots.AxesSubplot at 0x1d214e3ad30>"
      ]
     },
     "execution_count": 88,
     "metadata": {},
     "output_type": "execute_result"
    },
    {
     "data": {
      "image/png": "[encoded data removed]",
      "text/plain": [
       "<matplotlib.figure.Figure at 0x1d214da38d0>"
      ]
     },
     "metadata": {},
     "output_type": "display_data"
    }
   ],
   "source": [
    "#Generating new correlation matrix\n",
    "corr1 = franceDF.corr()\n",
    "sns.heatmap(corr1)#, \n",
    "        #xticklabels=corr1.columns,\n",
    "        #yticklabels=corr1.columns)\n",
    "#print franceDF.corr()"
   ]
  },
  {
   "cell_type": "code",
   "execution_count": 89,
   "metadata": {},
   "outputs": [
    {
     "data": {
      "text/html": [
       "<div>\n",
       "<style>\n",
       "    .dataframe thead tr:only-child th {\n",
       "        text-align: right;\n",
       "    }\n",
       "\n",
       "    .dataframe thead th {\n",
       "        text-align: left;\n",
       "    }\n",
       "\n",
       "    .dataframe tbody tr th {\n",
       "        vertical-align: top;\n",
       "    }\n",
       "</style>\n",
       "<table border=\"1\" class=\"dataframe\">\n",
       "  <thead>\n",
       "    <tr style=\"text-align: right;\">\n",
       "      <th></th>\n",
       "      <th>FR</th>\n",
       "      <th>WINDSPEED</th>\n",
       "      <th>PRECIPITATION</th>\n",
       "      <th>RADIATION</th>\n",
       "      <th>SNOWDEPTH</th>\n",
       "    </tr>\n",
       "  </thead>\n",
       "  <tbody>\n",
       "    <tr>\n",
       "      <th>count</th>\n",
       "      <td>2857.000000</td>\n",
       "      <td>2857.000000</td>\n",
       "      <td>2857.000000</td>\n",
       "      <td>2857.000000</td>\n",
       "      <td>2857.000000</td>\n",
       "    </tr>\n",
       "    <tr>\n",
       "      <th>mean</th>\n",
       "      <td>2.864947</td>\n",
       "      <td>3.346436</td>\n",
       "      <td>2.190706</td>\n",
       "      <td>11123.464838</td>\n",
       "      <td>12.709500</td>\n",
       "    </tr>\n",
       "    <tr>\n",
       "      <th>std</th>\n",
       "      <td>1.348017</td>\n",
       "      <td>1.030206</td>\n",
       "      <td>2.612020</td>\n",
       "      <td>6795.822768</td>\n",
       "      <td>24.169718</td>\n",
       "    </tr>\n",
       "    <tr>\n",
       "      <th>min</th>\n",
       "      <td>0.394060</td>\n",
       "      <td>1.326620</td>\n",
       "      <td>0.000997</td>\n",
       "      <td>2094.080758</td>\n",
       "      <td>0.000000</td>\n",
       "    </tr>\n",
       "    <tr>\n",
       "      <th>25%</th>\n",
       "      <td>1.709574</td>\n",
       "      <td>2.585942</td>\n",
       "      <td>0.228814</td>\n",
       "      <td>4879.883350</td>\n",
       "      <td>0.100000</td>\n",
       "    </tr>\n",
       "    <tr>\n",
       "      <th>50%</th>\n",
       "      <td>2.695554</td>\n",
       "      <td>3.142173</td>\n",
       "      <td>1.153340</td>\n",
       "      <td>9590.744766</td>\n",
       "      <td>3.446481</td>\n",
       "    </tr>\n",
       "    <tr>\n",
       "      <th>75%</th>\n",
       "      <td>3.985883</td>\n",
       "      <td>3.961715</td>\n",
       "      <td>3.292024</td>\n",
       "      <td>16374.682951</td>\n",
       "      <td>12.837963</td>\n",
       "    </tr>\n",
       "    <tr>\n",
       "      <th>max</th>\n",
       "      <td>5.786712</td>\n",
       "      <td>8.331705</td>\n",
       "      <td>19.295214</td>\n",
       "      <td>29273.305085</td>\n",
       "      <td>250.000000</td>\n",
       "    </tr>\n",
       "  </tbody>\n",
       "</table>\n",
       "</div>"
      ],
      "text/plain": [
       "                FR    WINDSPEED  PRECIPITATION     RADIATION    SNOWDEPTH\n",
       "count  2857.000000  2857.000000    2857.000000   2857.000000  2857.000000\n",
       "mean      2.864947     3.346436       2.190706  11123.464838    12.709500\n",
       "std       1.348017     1.030206       2.612020   6795.822768    24.169718\n",
       "min       0.394060     1.326620       0.000997   2094.080758     0.000000\n",
       "25%       1.709574     2.585942       0.228814   4879.883350     0.100000\n",
       "50%       2.695554     3.142173       1.153340   9590.744766     3.446481\n",
       "75%       3.985883     3.961715       3.292024  16374.682951    12.837963\n",
       "max       5.786712     8.331705      19.295214  29273.305085   250.000000"
      ]
     },
     "execution_count": 89,
     "metadata": {},
     "output_type": "execute_result"
    }
   ],
   "source": [
    "#Clean data over here - removing NaN, Inf and Null values\n",
    "def clean_dataset(df):\n",
    "    assert isinstance(df, pd.DataFrame), \"df needs to be a pd.DataFrame\"\n",
    "    df.dropna(inplace=True)\n",
    "    indices_to_keep = ~df.isin([np.nan, np.inf, -np.inf]).any(1)\n",
    "    return df[indices_to_keep].astype(np.float64)\n",
    "\n",
    "franceDF = clean_dataset(franceDF[['FR','WINDSPEED','PRECIPITATION','RADIATION','SNOWDEPTH']]) \n",
    "\n",
    "franceDF.describe()"
   ]
  },
  {
   "cell_type": "code",
   "execution_count": 90,
   "metadata": {
    "collapsed": true
   },
   "outputs": [],
   "source": [
    "#Splitting dataset to train and test sets\n",
    "from sklearn.model_selection import train_test_split\n",
    "X_train, X_test, y_train, y_test = train_test_split(franceDF[['WINDSPEED','PRECIPITATION','RADIATION','SNOWDEPTH']], \\\n",
    "        franceDF['FR'], test_size=0.2, random_state=123456)"
   ]
  },
  {
   "cell_type": "code",
   "execution_count": 91,
   "metadata": {
    "collapsed": true
   },
   "outputs": [],
   "source": [
    "#X_test.shape"
   ]
  },
  {
   "cell_type": "code",
   "execution_count": 92,
   "metadata": {},
   "outputs": [
    {
     "data": {
      "text/plain": [
       "RandomForestRegressor(bootstrap=True, criterion='mse', max_depth=None,\n",
       "           max_features='auto', max_leaf_nodes=None,\n",
       "           min_impurity_split=1e-07, min_samples_leaf=1,\n",
       "           min_samples_split=2, min_weight_fraction_leaf=0.0,\n",
       "           n_estimators=100, n_jobs=1, oob_score=True, random_state=123456,\n",
       "           verbose=0, warm_start=False)"
      ]
     },
     "execution_count": 92,
     "metadata": {},
     "output_type": "execute_result"
    }
   ],
   "source": [
    "from sklearn.ensemble import RandomForestRegressor\n",
    "rf = RandomForestRegressor(n_estimators=100, oob_score=True, random_state=123456)\n",
    "rf.fit(X_train, y_train)"
   ]
  },
  {
   "cell_type": "code",
   "execution_count": 93,
   "metadata": {
    "collapsed": true,
    "scrolled": true
   },
   "outputs": [],
   "source": [
    "from sklearn.metrics import accuracy_score\n",
    "predicted = rf.predict(X_test)\n"
   ]
  },
  {
   "cell_type": "code",
   "execution_count": 96,
   "metadata": {
    "scrolled": true
   },
   "outputs": [
    {
     "name": "stdout",
     "output_type": "stream",
     "text": [
      "(572,)\n"
     ]
    }
   ],
   "source": [
    "y_test.describe()\n",
    "print(predicted.shape)"
   ]
  },
  {
   "cell_type": "code",
   "execution_count": 98,
   "metadata": {},
   "outputs": [
    {
     "name": "stdout",
     "output_type": "stream",
     "text": [
      "0.14631358001\n",
      "0.922770619096\n",
      "RandomForestRegressor(bootstrap=True, criterion='mse', max_depth=None,\n",
      "           max_features='auto', max_leaf_nodes=None,\n",
      "           min_impurity_split=1e-07, min_samples_leaf=1,\n",
      "           min_samples_split=2, min_weight_fraction_leaf=0.0,\n",
      "           n_estimators=100, n_jobs=1, oob_score=True, random_state=123456,\n",
      "           verbose=0, warm_start=False)\n"
     ]
    }
   ],
   "source": [
    "from sklearn.metrics import mean_squared_error, r2_score\n",
    "print (mean_squared_error(y_test, predicted))\n",
    "print (r2_score(y_test, predicted))\n",
    "print (rf)"
   ]
  },
  {
   "cell_type": "code",
   "execution_count": 99,
   "metadata": {},
   "outputs": [
    {
     "data": {
      "text/plain": [
       "GradientBoostingRegressor(alpha=0.9, criterion='friedman_mse', init=None,\n",
       "             learning_rate=0.1, loss='ls', max_depth=3, max_features=None,\n",
       "             max_leaf_nodes=None, min_impurity_split=1e-07,\n",
       "             min_samples_leaf=1, min_samples_split=2,\n",
       "             min_weight_fraction_leaf=0.0, n_estimators=100,\n",
       "             presort='auto', random_state=None, subsample=1.0, verbose=0,\n",
       "             warm_start=False)"
      ]
     },
     "execution_count": 99,
     "metadata": {},
     "output_type": "execute_result"
    }
   ],
   "source": [
    "#modelling with gradient boosted tree regression\n",
    "from sklearn.ensemble import GradientBoostingRegressor\n",
    "gbr = GradientBoostingRegressor(n_estimators=100)\n",
    "gbr.fit(X_train, y_train)"
   ]
  },
  {
   "cell_type": "code",
   "execution_count": 101,
   "metadata": {},
   "outputs": [
    {
     "name": "stdout",
     "output_type": "stream",
     "text": [
      "0.141218160144\n",
      "0.925460158383\n"
     ]
    }
   ],
   "source": [
    "predicted_gbr = gbr.predict(X_test)\n",
    "print (mean_squared_error(y_test, predicted_gbr))\n",
    "print (r2_score(y_test, predicted_gbr))"
   ]
  },
  {
   "cell_type": "code",
   "execution_count": 102,
   "metadata": {},
   "outputs": [
    {
     "data": {
      "text/plain": [
       "AdaBoostRegressor(base_estimator=None, learning_rate=1.0, loss='linear',\n",
       "         n_estimators=100, random_state=None)"
      ]
     },
     "execution_count": 102,
     "metadata": {},
     "output_type": "execute_result"
    }
   ],
   "source": [
    "#modelling with ada boosted tree regression\n",
    "from sklearn.ensemble import AdaBoostRegressor\n",
    "abr = AdaBoostRegressor(n_estimators=100)\n",
    "abr.fit(X_train, y_train)"
   ]
  },
  {
   "cell_type": "code",
   "execution_count": 104,
   "metadata": {},
   "outputs": [
    {
     "name": "stdout",
     "output_type": "stream",
     "text": [
      "0.166476441702\n",
      "0.912127961554\n",
      "{'base_estimator': None, 'learning_rate': 1.0, 'loss': 'linear', 'n_estimators': 100, 'random_state': None}\n"
     ]
    }
   ],
   "source": [
    "predicted_abr = abr.predict(X_test)\n",
    "print (mean_squared_error(y_test, predicted_abr))\n",
    "print( r2_score(y_test, predicted_abr))\n",
    "print (abr.get_params())"
   ]
  },
  {
   "cell_type": "code",
   "execution_count": 105,
   "metadata": {},
   "outputs": [
    {
     "name": "stdout",
     "output_type": "stream",
     "text": [
      "0.923072877631\n",
      "0.912849483147\n",
      "0.925603951705\n"
     ]
    }
   ],
   "source": [
    "from sklearn.metrics import explained_variance_score\n",
    "print (explained_variance_score(y_test, predicted))\n",
    "print (explained_variance_score(y_test, predicted_abr))\n",
    "print (explained_variance_score(y_test, predicted_gbr))\n"
   ]
  },
  {
   "cell_type": "code",
   "execution_count": 106,
   "metadata": {},
   "outputs": [
    {
     "data": {
      "text/plain": [
       "AdaBoostRegressor(base_estimator=None, learning_rate=1.0, loss='linear',\n",
       "         n_estimators=100, random_state=None)"
      ]
     },
     "execution_count": 106,
     "metadata": {},
     "output_type": "execute_result"
    }
   ],
   "source": [
    "#modelling with isolation forest\n",
    "from sklearn.ensemble import IsolationForest\n",
    "ifr = AdaBoostRegressor(n_estimators=100)\n",
    "ifr.fit(X_train, y_train)"
   ]
  },
  {
   "cell_type": "code",
   "execution_count": 107,
   "metadata": {},
   "outputs": [
    {
     "name": "stdout",
     "output_type": "stream",
     "text": [
      "0.162304938226\n",
      "0.914329825734\n",
      "0.914910994342\n"
     ]
    }
   ],
   "source": [
    "predicted_ifr = ifr.predict(X_test)\n",
    "print (mean_squared_error(y_test, predicted_ifr))\n",
    "print (r2_score(y_test, predicted_ifr))\n",
    "print (explained_variance_score(y_test, predicted_ifr))"
   ]
  },
  {
   "cell_type": "code",
   "execution_count": null,
   "metadata": {
    "collapsed": true
   },
   "outputs": [],
   "source": []
  }
 ],
 "metadata": {
  "kernelspec": {
   "display_name": "Python 3",
   "language": "python",
   "name": "python3"
  },
  "language_info": {
   "codemirror_mode": {
    "name": "ipython",
    "version": 3
   },
   "file_extension": ".py",
   "mimetype": "text/x-python",
   "name": "python",
   "nbconvert_exporter": "python",
   "pygments_lexer": "ipython3",
   "version": "3.6.1"
  }
 },
 "nbformat": 4,
 "nbformat_minor": 1
}
